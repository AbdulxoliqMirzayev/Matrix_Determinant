{
  "nbformat": 4,
  "nbformat_minor": 0,
  "metadata": {
    "colab": {
      "provenance": [],
      "gpuType": "T4",
      "authorship_tag": "ABX9TyO2yIM2uG9po869mMkOptbK",
      "include_colab_link": true
    },
    "kernelspec": {
      "name": "python3",
      "display_name": "Python 3"
    },
    "language_info": {
      "name": "python"
    },
    "accelerator": "GPU"
  },
  "cells": [
    {
      "cell_type": "markdown",
      "metadata": {
        "id": "view-in-github",
        "colab_type": "text"
      },
      "source": [
        "<a href=\"https://colab.research.google.com/github/AbdulxoliqMirzayev/Matrix_Determinant/blob/main/Matrix.ipynb\" target=\"_parent\"><img src=\"https://colab.research.google.com/assets/colab-badge.svg\" alt=\"Open In Colab\"/></a>"
      ]
    },
    {
      "cell_type": "markdown",
      "source": [
        "Ushbu kodda men NxN o‘lchamdagi matritsaning determinanti va inversini hisoblashni NOLDAN amalga oshirdim  yani hech qanday kutubxonadan foydalanmasdan o‘z funksiyalarim orqali\n",
        "\n",
        "Maqsad: chiziqli algebra asoslarini amalda tushunish va algoritmik fikrlash     ko‘nikmasini mustahkamlash.\n",
        "\n",
        "Bu yondashuv: har bir bosqichni qo‘lda yozish orqali determinat, minor, kofaktor va transpozitsiya kabi tushunchalarni chuqur o‘rganishga yordam beradi.\n",
        "\n",
        "Junior dasturchi sifatida bu menga matematik model asosida real algoritm yozishni va har bir element qanday hisoblanishini to‘liq anglashimda yordam berdi !!!\n",
        "\n",
        "Batafsil o'rganish uchun quyidagi link orqali o'tib o'rganishingiz mumkin ->\n",
        "https://en.wikipedia.org/wiki/Determinant\n"
      ],
      "metadata": {
        "id": "KG3RpPOSqpRM"
      }
    },
    {
      "cell_type": "markdown",
      "source": [
        "![equation_1_difference_between_the_notation_of_a_matrix_and_a_determinant_4e534f45d5.png](data:image/png;base64,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)"
      ],
      "metadata": {
        "id": "f0sEMNKS8PMk"
      }
    },
    {
      "cell_type": "code",
      "source": [
        "# Matritsa uchun determinant va invers matritsa hisoblovchi kod\n",
        "# minor matritsa olish funksiyasi\n",
        "\n",
        "def minor_matritsa(matritsa, qator, ustun):\n",
        "    new_m = []\n",
        "    for i in range(len(matritsa)):\n",
        "        if i != qator:\n",
        "            yangi_qator = []\n",
        "            for j in range(len(matritsa)):\n",
        "                if j != ustun:\n",
        "                    yangi_qator.append(matritsa[i][j])\n",
        "            new_m.append(yangi_qator)\n",
        "    return new_m"
      ],
      "metadata": {
        "id": "Ie_TvJ6oogbv"
      },
      "execution_count": 32,
      "outputs": []
    },
    {
      "cell_type": "code",
      "source": [
        "# Determinantni topish funksiyasi\n",
        "\n",
        "def determinant(matritsa):\n",
        "    n = len(matritsa)\n",
        "\n",
        "    # 1x1 matritsa uchun\n",
        "    if n == 1:\n",
        "        return matritsa[0][0]\n",
        "\n",
        "    # 2x2 matritsa uchun formuladan foydalanamiz: ad - bc\n",
        "    if n == 2:\n",
        "        return matritsa[0][0]*matritsa[1][1] - matritsa[0][1]*matritsa[1][0]\n",
        "\n",
        "    # Katta matritsalar uchun rekursiv hisoblaymiz\n",
        "    results = 0\n",
        "    for j in range(n):\n",
        "        dots = (-1) ** j  # Belgilar ketma ketligi\n",
        "        small = minor_matritsa(matritsa, 0, j)  # 0-qatordan minor olamiz\n",
        "        results += dots * matritsa[0][j] * determinant(small)\n",
        "    return results\n",
        "\n"
      ],
      "metadata": {
        "id": "zyxoHJOBohgO"
      },
      "execution_count": 33,
      "outputs": []
    },
    {
      "cell_type": "code",
      "source": [
        "# Matritsani aylantirish qator va ustunni almashtirish\n",
        "\n",
        "def rotate(matritsa):\n",
        "    n = len(matritsa)\n",
        "    result = []\n",
        "    for i in range(n):\n",
        "        new_qator = []\n",
        "        for j in range(n):\n",
        "            new_qator.append(matritsa[j][i])\n",
        "        result.append(new_qator)\n",
        "    return result\n"
      ],
      "metadata": {
        "id": "a_6FEoR6o73a"
      },
      "execution_count": 34,
      "outputs": []
    },
    {
      "cell_type": "code",
      "source": [
        "# Har bir element uchun kofaktor hisoblash\n",
        "\n",
        "def kofaktorlar(matritsa):\n",
        "    n = len(matritsa)\n",
        "    results1 = []\n",
        "    for i in range(n):\n",
        "        row1 = []\n",
        "        for j in range(n):\n",
        "            smalls = minor_matritsa(matritsa, i, j)  # Minor olamiz\n",
        "            belgi = (-1) ** (i + j)  # Kofaktor belgisi\n",
        "            row1.append(belgi * determinant(smalls))\n",
        "        results1.append(row1)\n",
        "    return results1\n"
      ],
      "metadata": {
        "id": "dIKUwiyyo_UR"
      },
      "execution_count": 35,
      "outputs": []
    },
    {
      "cell_type": "code",
      "source": [
        "# Invers matritsani hisoblaymiz\n",
        "\n",
        "def invers(matritsa):\n",
        "    det = determinant(matritsa)  # avval determinant topamiz\n",
        "    if det == 0:\n",
        "        return None  # agar nol bolsa  invers yoq\n",
        "\n",
        "    kof = kofaktorlar(matritsa)         # Kofaktor matritsa\n",
        "    adj = rotate(kof)                # Adjugate aylantirilgan kofaktor\n",
        "\n",
        "    # har bir elementni determinantga bolamiz\n",
        "    results2 = []\n",
        "    for qator in adj:\n",
        "        neww_qator = []\n",
        "        for son in qator:\n",
        "            neww_qator.append(son / det)\n",
        "        results2.append(neww_qator)\n",
        "\n",
        "    return results2\n"
      ],
      "metadata": {
        "id": "GtkcLUFopCiE"
      },
      "execution_count": 36,
      "outputs": []
    },
    {
      "cell_type": "code",
      "source": [
        "# ===== TEST QILAMIZ ===== #\n",
        "\n",
        "# 3x3 matritsa yaratamiz\n",
        "matritsa = [\n",
        "    [2, 1, 3],\n",
        "    [1, 0, 2],\n",
        "    [4, 1, 8]\n",
        "]\n",
        "\n",
        "# Matritsani chiqaramiz\n",
        "print(\"Matritsa:\")\n",
        "for qator in matritsa:\n",
        "    print(qator)\n"
      ],
      "metadata": {
        "colab": {
          "base_uri": "https://localhost:8080/"
        },
        "id": "tV8VoW5VpFvf",
        "outputId": "c6808810-b3e1-4b61-9835-0aeaf8b99a6c"
      },
      "execution_count": 37,
      "outputs": [
        {
          "output_type": "stream",
          "name": "stdout",
          "text": [
            "Matritsa:\n",
            "[2, 1, 3]\n",
            "[1, 0, 2]\n",
            "[4, 1, 8]\n"
          ]
        }
      ]
    },
    {
      "cell_type": "code",
      "source": [
        "# Determinantni chiqaramiz\n",
        "print(\"\\n Determinant:\", determinant(matritsa))\n"
      ],
      "metadata": {
        "colab": {
          "base_uri": "https://localhost:8080/"
        },
        "id": "Jh5-0fUSpL2b",
        "outputId": "ce0ebc70-da42-4ca5-bfe9-e370b2728173"
      },
      "execution_count": 38,
      "outputs": [
        {
          "output_type": "stream",
          "name": "stdout",
          "text": [
            "\n",
            " Determinant: -1\n"
          ]
        }
      ]
    },
    {
      "cell_type": "code",
      "source": [
        "# Inversni hisoblaymiz\n",
        "\n",
        "inv = invers(matritsa)\n",
        "if inv:\n",
        "    print(\"\\n Invers matritsa:\")\n",
        "    for qator in inv:\n",
        "        print([round(x, 2) for x in qator])  # Yaxlitlab chiqaramiz\n",
        "else:\n",
        "    print(\"\\n Bu matritsaning inversi yo‘q (det = 0)\")"
      ],
      "metadata": {
        "colab": {
          "base_uri": "https://localhost:8080/"
        },
        "id": "yOLB7ctupMhM",
        "outputId": "9b04c108-7163-4171-e4dc-f8d97de367a6"
      },
      "execution_count": 39,
      "outputs": [
        {
          "output_type": "stream",
          "name": "stdout",
          "text": [
            "\n",
            " Invers matritsa:\n",
            "[2.0, 5.0, -2.0]\n",
            "[-0.0, -4.0, 1.0]\n",
            "[-1.0, -2.0, 1.0]\n"
          ]
        }
      ]
    },
    {
      "cell_type": "markdown",
      "source": [
        "Qatorlar qanday mano beradi ?\n",
        "\n",
        "Har bir qator  bu yangi matritsadagi transformatsiya natijasi:\n",
        "\n",
        "1-qator: [2.0, 5.0, -2.0]\n",
        "\n",
        "2-qator: [-0.0, -4.0, 1.0]\n",
        "\n",
        "3-qator: [-1.0, -2.0, 1.0]\n",
        "\n",
        "Bu qiymatlar:\n",
        "\n",
        "Minorlar kofaktorlar va adjugat orqali chiqqan\n",
        "\n",
        "Har biri 1 / determinant ga kopaytirilgan"
      ],
      "metadata": {
        "id": "k7gTrcDR3df0"
      }
    },
    {
      "cell_type": "code",
      "source": [],
      "metadata": {
        "id": "VJFhwh_S2Xrg"
      },
      "execution_count": 39,
      "outputs": []
    }
  ]
}